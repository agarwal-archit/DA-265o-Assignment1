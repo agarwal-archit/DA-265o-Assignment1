{
 "cells": [
  {
   "cell_type": "markdown",
   "metadata": {},
   "source": [
    "# Q2 : Scalar Backpropagation\n",
    "\n",
    "Evaluate the gradient of the following function w.r.t. the input:\n",
    "\n",
    "$$ f(x,y,z) =  log(\\sigma(\\frac{cos(\\pi \\times x)+sin(\\pi \\times y/2)}{tanh(z^2)}))$$\n",
    "where $\\sigma$ is the sigmoid function. Find gradient for the following inputs:\n",
    "  * $(x,y,z)$ =  (1,2,3)\n",
    "  * $(x,y,z)$ =  (3,2,1)\n",
    "  * $(x,y,z)$ =  (12,23,31)\n",
    "  * $(x,y,z)$ =  (32,21,13)"
   ]
  },
  {
   "cell_type": "code",
   "execution_count": 17,
   "metadata": {},
   "outputs": [],
   "source": [
    "import numpy as np\n",
    "# To solve this problem, construct the computational graph\n",
    "# Write a class with forward and backward functions, for each node if you like\n",
    "# For eg:\n",
    "class Sigmoid():\n",
    "  def __init__(self):\n",
    "    pass\n",
    "  def forward(self,x):\n",
    "    # code here for forward prop\n",
    "    # save values useful for backpropagation\n",
    "    self.val = 1/(1 + np.exp(-x))\n",
    "    return self.val\n",
    "  \n",
    "  def backward(self, del_f_by_del_x):\n",
    "    # code here\n",
    "    return self.val*(1-self.val)*del_f_by_del_x\n",
    "\n",
    "class Cosine():\n",
    "  def __init__(self):\n",
    "    pass\n",
    "\n",
    "  def forward(self,x):\n",
    "    # code here for forward prop\n",
    "    # save values useful for backpropagation\n",
    "    self.val = np.cos(x)\n",
    "    self.x = x\n",
    "    return self.val\n",
    "  \n",
    "  def backward(self, del_f_by_del_x):\n",
    "    # code here\n",
    "    return -1*np.sin(self.x)*del_f_by_del_x\n",
    "\n",
    "class Sine():\n",
    "  def __init__(self):\n",
    "    pass\n",
    "  def forward(self,x):\n",
    "    # code here for forward prop\n",
    "    # save values useful for backpropagation\n",
    "    self.val = np.sin(x)\n",
    "    self.x = x\n",
    "    return self.val\n",
    "  \n",
    "  # save values useful for backpropagation\n",
    "  def backward(self, del_f_by_del_x):\n",
    "    # code here\n",
    "    return np.cos(self.x)*del_f_by_del_x\n",
    "\n",
    "class Tanh():\n",
    "  def __init__(self):\n",
    "    pass\n",
    "\n",
    "  def forward(self,x):\n",
    "    # code here for forward prop\n",
    "    # save values useful for backpropagation\n",
    "    self.val = np.tanh(x)\n",
    "    self.x = x\n",
    "    return self.val\n",
    "  \n",
    "  def backward(self, del_f_by_del_x):\n",
    "    # code here\n",
    "    return ((1/np.cosh(self.x))**2)*del_f_by_del_x\n",
    "\n",
    "class Log():\n",
    "    def __init__(self):\n",
    "        pass\n",
    "\n",
    "    def forward(self,x):\n",
    "        # code here for forward prop\n",
    "        # save values useful for backpropagation\n",
    "        self.val = np.log(x)\n",
    "        self.x = x\n",
    "        return self.val  \n",
    "\n",
    "    def backward(self, del_f_by_del_x):\n",
    "      # code here\n",
    "      return (1/self.x)*del_f_by_del_x\n",
    "        \n",
    "# CAUTION: Carefully treat the input and output dimension variation. At worst, handle them with if statements.\n",
    "# Note: Do not forget to clear our the gradients for repeatable usage."
   ]
  },
  {
   "cell_type": "markdown",
   "metadata": {},
   "source": [
    "Using the above classes, construct the function:\n",
    "\n",
    "$$ f(x,y,z) =  log(\\sigma(\\frac{cos(\\pi \\times x)+sin(\\pi \\times y/2)}{tanh(z^2)}))$$\n",
    "\n",
    "and write the forward computation to calculate $$ f(x, y, z) $$ and also comute the partial derivative w.r.t all the input variables $$ \\frac{\\partial{f}}{\\partial{x}}, \\frac{\\partial{f}}{\\partial{y}}, \\frac{\\partial{f}}{\\partial{z}} $$"
   ]
  },
  {
   "cell_type": "code",
   "execution_count": 18,
   "metadata": {},
   "outputs": [],
   "source": [
    "# Now write the class func\n",
    "# which constructs the graph (all operators), forward and backward functions.\n",
    "\n",
    "class Func():\n",
    "  def __init__(self):\n",
    "    # construct the graph here\n",
    "    # assign the instances of function modules to self.var\n",
    "    self.node_cos = Cosine()\n",
    "    self.node_sin = Sine()\n",
    "    self.node_tanh = Tanh()\n",
    "    self.sigmoid = Sigmoid()\n",
    "    self.log = Log()\n",
    "    \n",
    "  def forward(self,x,y,z):\n",
    "    # Using the graph element's forward functions, get the output.\n",
    "    self.D = self.node_cos.forward(np.pi*x)\n",
    "    self.E = self.node_sin.forward(np.pi*y/2)\n",
    "    self.F = self.node_tanh.forward(z**2)\n",
    "    self.C = (self.D+self.E)\n",
    "    self.B = self.C/self.F\n",
    "    self.z = z\n",
    "    self.val = self.log.forward(self.sigmoid.forward(self.B))\n",
    "    return self.val\n",
    "    \n",
    "  def backward(self):\n",
    "    # Use the saved outputs of each module, and backward() function calls\n",
    "    #return [grad_x,grad_y,grad_z]\n",
    "    b_grad = self.sigmoid.backward(self.log.backward(1))\n",
    "    c_grad = b_grad/self.F\n",
    "    f_grad = -1*self.C/(self.F**2)\n",
    "    \n",
    "    grad_x = self.node_cos.backward(c_grad)*np.pi\n",
    "    grad_y = self.node_sin.backward(c_grad)*np.pi/2\n",
    "    grad_z = 2*self.z*self.node_tanh.backward(f_grad)\n",
    "    \n",
    "    return [grad_x,grad_y,grad_z]"
   ]
  },
  {
   "cell_type": "code",
   "execution_count": 19,
   "metadata": {},
   "outputs": [
    {
     "name": "stdout",
     "output_type": "stream",
     "text": [
      "[-2.812632034922477e-16, -1.1483441743695981, 3.6551952500681303e-07]\n",
      "[-1.1942519557674598e-15, -1.625301211471673, 1.448123321932621]\n",
      "[2.3084048324661477e-15, -2.501258048093482e-15, -0.0]\n",
      "[1.4675658732796899e-15, -9.183876718826981e-17, -3.3614639007461224e-145]\n"
     ]
    },
    {
     "name": "stderr",
     "output_type": "stream",
     "text": [
      "C:\\Users\\Archit Agarwal\\AppData\\Local\\Temp\\ipykernel_9592\\1171306254.py:61: RuntimeWarning: overflow encountered in cosh\n",
      "  return ((1/np.cosh(self.x))**2)*del_f_by_del_x\n"
     ]
    }
   ],
   "source": [
    "func = Func()\n",
    "\n",
    "(𝑥,𝑦,𝑧) = (1,2,3)\n",
    "func.forward(x,y,z)\n",
    "gradients = func.backward()\n",
    "print(gradients)\n",
    "\n",
    "(𝑥,𝑦,𝑧) = (3,2,1)\n",
    "func.forward(x,y,z)\n",
    "gradients = func.backward()\n",
    "print(gradients)\n",
    "\n",
    "(𝑥,𝑦,𝑧) = (12,23,31)\n",
    "func.forward(x,y,z)\n",
    "gradients = func.backward()\n",
    "print(gradients)\n",
    "\n",
    "(𝑥,𝑦,𝑧) = (32,21,13)\n",
    "func.forward(x,y,z)\n",
    "gradients = func.backward()\n",
    "print(gradients)"
   ]
  },
  {
   "cell_type": "code",
   "execution_count": null,
   "metadata": {},
   "outputs": [],
   "source": []
  }
 ],
 "metadata": {
  "kernelspec": {
   "display_name": "Python 3 (ipykernel)",
   "language": "python",
   "name": "python3"
  },
  "language_info": {
   "codemirror_mode": {
    "name": "ipython",
    "version": 3
   },
   "file_extension": ".py",
   "mimetype": "text/x-python",
   "name": "python",
   "nbconvert_exporter": "python",
   "pygments_lexer": "ipython3",
   "version": "3.10.9"
  },
  "vscode": {
   "interpreter": {
    "hash": "49598912cb7efc65e0007e347a7051cc5ac4c91b95dad2ffbc631da6724968c7"
   }
  }
 },
 "nbformat": 4,
 "nbformat_minor": 2
}
